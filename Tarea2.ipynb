{
  "nbformat": 4,
  "nbformat_minor": 0,
  "metadata": {
    "colab": {
      "name": "Entrega2.ipynb",
      "provenance": [],
      "collapsed_sections": []
    },
    "kernelspec": {
      "name": "python3",
      "display_name": "Python 3"
    },
    "language_info": {
      "name": "python"
    }
  },
  "cells": [
    {
      "cell_type": "markdown",
      "source": [
        "# **Entrega 2**"
      ],
      "metadata": {
        "id": "7DCYake9Zfym"
      }
    },
    {
      "cell_type": "markdown",
      "source": [
        "Importamos los paquetes necesarios"
      ],
      "metadata": {
        "id": "6FXsJg2BZVuc"
      }
    },
    {
      "cell_type": "code",
      "source": [
        "import numpy as np\n",
        "import pandas as pd\n",
        "import statsmodels as st\n",
        "import matplotlib.pyplot as plt\n",
        "import statsmodels.api as sm           \n",
        "import statsmodels.formula.api as smf  \n",
        "import scipy as stast\n",
        "import sklearn as skl         \n",
        "import seaborn as sns"
      ],
      "metadata": {
        "id": "GguGwjW_ZVXa",
        "outputId": "3408f9f3-267f-4542-e021-e6550133b481",
        "colab": {
          "base_uri": "https://localhost:8080/"
        }
      },
      "execution_count": null,
      "outputs": [
        {
          "output_type": "stream",
          "name": "stderr",
          "text": [
            "/usr/local/lib/python3.7/dist-packages/statsmodels/tools/_testing.py:19: FutureWarning: pandas.util.testing is deprecated. Use the functions in the public API at pandas.testing instead.\n",
            "  import pandas.util.testing as tm\n"
          ]
        }
      ]
    },
    {
      "cell_type": "markdown",
      "source": [
        "Importamos los datasets"
      ],
      "metadata": {
        "id": "Q24gGAzzZSU4"
      }
    },
    {
      "cell_type": "code",
      "execution_count": null,
      "metadata": {
        "id": "iDZw6QVlY5yP"
      },
      "outputs": [],
      "source": [
        "datosContactos = pd.read_csv(\"Data/DatasetContactos.csv\")\n",
        "datosTransacciones = pd.read_csv(\"Data/DatasetTrxs.csv\")"
      ]
    },
    {
      "cell_type": "markdown",
      "source": [
        "## **Parte 1: EDA**"
      ],
      "metadata": {
        "id": "0oz_lftBaNS8"
      }
    },
    {
      "cell_type": "markdown",
      "source": [
        "Exploracion los datasets"
      ],
      "metadata": {
        "id": "O3_koAbgaUW3"
      }
    },
    {
      "cell_type": "code",
      "source": [
        "datosContactos.head()"
      ],
      "metadata": {
        "id": "Bs097VR2ZRue"
      },
      "execution_count": null,
      "outputs": []
    },
    {
      "cell_type": "code",
      "source": [
        "datosTransacciones.head()"
      ],
      "metadata": {
        "id": "yV-XVAY0dAb2"
      },
      "execution_count": null,
      "outputs": []
    },
    {
      "cell_type": "code",
      "source": [
        "datosContactos.describe()"
      ],
      "metadata": {
        "id": "qSkcLsAbcDHF"
      },
      "execution_count": null,
      "outputs": []
    },
    {
      "cell_type": "code",
      "source": [
        "datosTransacciones.describe()"
      ],
      "metadata": {
        "id": "svAtCieedKe2"
      },
      "execution_count": null,
      "outputs": []
    },
    {
      "cell_type": "markdown",
      "source": [
        "Las variables con las que trabajaremos en los distintos dataset seran:\n",
        "\n",
        "Dataset Transacciones Clientes\n",
        "\n",
        "*   CUSTID: Identificador del cliente\n",
        "*   BALANCE: Monto del saldo disponible para realizar compras\n",
        "*   BALANCE_FREQUENCY: Frecuencia de actualización del saldo, puntuación entre 0 y 1 (1 = actualizado con frecuencia, 0 = no actualizado con frecuencia)\n",
        "*   PURCHASES: Importe de las compras realizadas\n",
        "*   ONE_OFF_PURCHASES: Monto máximo de una compra realizada de una sola vez\n",
        "*   INSTALLMENTS_PURCHASES: Cantidad de compras hechas en cuotas\n",
        "*   CASH_ADVANCE: Cantidad de retiros en efectivo\n",
        "*   PURCHASES_FREQUENCY: Frecuencia de las compras (1 = frecuentemente, 0 = no frecuentemente)\n",
        "*   ONE_OFF_PURCHASES_FREQUENCY: Compras frecuentes son realizadas deuna sola vez (1 = frecuentemente, 0 = no frecuentemente)\n",
        "*   PURCHASES_INSTALLMENTS_FREQUENCY: Frecuencia de compras en cuotas (1 = frecuentemente, 0 = no frecuentemente) \n",
        "*   CASH_ADVANCE_FREQUENCY: Frecuencia de retiros en efectivo (1 = frecuentemente, 0 = no frecuentemente)\n",
        "*   CASH_ADVANCE_TRX: Cantidad de transacciones de retiro en efectivo\n",
        "*   PURCHASES_TRX: Cantidad de transacciones\n",
        "*   CREDIT_LIMIT: Limite de crédito\n",
        "*   PAYMENTS: Cantidad de pagos efectuados por el usuario\n",
        "*   MINIMUM_PAYMENTS: Cantidad de pagos mínimos hechos por el usuario\n",
        "*   PRC_FULL_PAYMENT: Porcentaje de pagos totales hechos por el usuario\n",
        "*   TENURE: Tenencia de la tarjeta de crédito (meses)\n",
        "\n",
        "Dataset Contactos\n",
        "\n",
        "*   CUSTID: Identificador del cliente\n",
        "*   PHONE: Teléfono de contacto\n",
        "*   CONTACTS: Cantidad de llamados que recibió en los últimos 60 días\n",
        "\n",
        "\n",
        "\n"
      ],
      "metadata": {
        "id": "f6ACWtpKiBk1"
      }
    },
    {
      "cell_type": "markdown",
      "source": [
        "Estudiamos la distribucion de las variables del dataset Transacciones\n"
      ],
      "metadata": {
        "id": "MQtDrI0ChyFp"
      }
    },
    {
      "cell_type": "code",
      "source": [
        "datosTransacciones.hist(figsize = (15,15));"
      ],
      "metadata": {
        "colab": {
          "base_uri": "https://localhost:8080/",
          "height": 879
        },
        "id": "SJTxjS37hjYI",
        "outputId": "f11f9853-65fd-4355-abfb-b57e43a13f22"
      },
      "execution_count": null,
      "outputs": [
        {
          "output_type": "display_data",
          "data": {
            "text/plain": [
              "<Figure size 1080x1080 with 20 Axes>"
            ],
            "image/png": "[encoded data removed]"
          },
          "metadata": {
            "needs_background": "light"
          }
        }
      ]
    },
    {
      "cell_type": "markdown",
      "source": [
        "Estudiamos los valores maximos y minimos de cada variable"
      ],
      "metadata": {
        "id": "dVXF6P9juIAB"
      }
    },
    {
      "cell_type": "code",
      "source": [
        "(min(datosTransacciones['BALANCE']), max(datosTransacciones['BALANCE']))"
      ],
      "metadata": {
        "colab": {
          "base_uri": "https://localhost:8080/"
        },
        "id": "tMdMplmEt7Fd",
        "outputId": "d4cb02f8-939d-43a5-f2b7-53012cb9b559"
      },
      "execution_count": null,
      "outputs": [
        {
          "output_type": "execute_result",
          "data": {
            "text/plain": [
              "(0.0, 19043.13856)"
            ]
          },
          "metadata": {},
          "execution_count": 27
        }
      ]
    },
    {
      "cell_type": "code",
      "source": [
        "(min(datosTransacciones['BALANCE_FREQUENCY']), max(datosTransacciones['BALANCE_FREQUENCY']))"
      ],
      "metadata": {
        "colab": {
          "base_uri": "https://localhost:8080/"
        },
        "id": "Od4x8lw_uRJC",
        "outputId": "e3330d88-2302-474e-f11e-2924b6971684"
      },
      "execution_count": null,
      "outputs": [
        {
          "output_type": "execute_result",
          "data": {
            "text/plain": [
              "(0.0, 1.0)"
            ]
          },
          "metadata": {},
          "execution_count": 28
        }
      ]
    },
    {
      "cell_type": "code",
      "source": [
        "(min(datosTransacciones['PURCHASES']), max(datosTransacciones['PURCHASES']))"
      ],
      "metadata": {
        "colab": {
          "base_uri": "https://localhost:8080/"
        },
        "id": "NBeDKJzrw73b",
        "outputId": "c10b85b4-d04e-43d2-8da4-e49f41879801"
      },
      "execution_count": null,
      "outputs": [
        {
          "output_type": "execute_result",
          "data": {
            "text/plain": [
              "(0.0, 49039.57)"
            ]
          },
          "metadata": {},
          "execution_count": 60
        }
      ]
    },
    {
      "cell_type": "code",
      "source": [
        "(min(datosTransacciones['ONEOFF_PURCHASES']), max(datosTransacciones['ONEOFF_PURCHASES']))"
      ],
      "metadata": {
        "colab": {
          "base_uri": "https://localhost:8080/"
        },
        "id": "hI9da9lNuRGt",
        "outputId": "2c44852c-4b65-4394-a989-62e4e105edf1"
      },
      "execution_count": null,
      "outputs": [
        {
          "output_type": "execute_result",
          "data": {
            "text/plain": [
              "(0.0, 40761.25)"
            ]
          },
          "metadata": {},
          "execution_count": 31
        }
      ]
    },
    {
      "cell_type": "code",
      "source": [
        "(min(datosTransacciones['INSTALLMENTS_PURCHASES']), max(datosTransacciones['INSTALLMENTS_PURCHASES']))"
      ],
      "metadata": {
        "colab": {
          "base_uri": "https://localhost:8080/"
        },
        "id": "Z0l7ukaIuRFC",
        "outputId": "d009d2e0-6696-4801-9557-f56b29d93459"
      },
      "execution_count": null,
      "outputs": [
        {
          "output_type": "execute_result",
          "data": {
            "text/plain": [
              "(0.0, 22500.0)"
            ]
          },
          "metadata": {},
          "execution_count": 32
        }
      ]
    },
    {
      "cell_type": "code",
      "source": [
        "(min(datosTransacciones['CASH_ADVANCE']), max(datosTransacciones['CASH_ADVANCE']))"
      ],
      "metadata": {
        "colab": {
          "base_uri": "https://localhost:8080/"
        },
        "id": "qMjTx7bIuRDQ",
        "outputId": "4861c5bc-738c-42c7-a86d-07dccf84714f"
      },
      "execution_count": null,
      "outputs": [
        {
          "output_type": "execute_result",
          "data": {
            "text/plain": [
              "(0.0, 47137.21176)"
            ]
          },
          "metadata": {},
          "execution_count": 35
        }
      ]
    },
    {
      "cell_type": "code",
      "source": [
        "(min(datosTransacciones['PURCHASES_FREQUENCY']), max(datosTransacciones['PURCHASES_FREQUENCY']))"
      ],
      "metadata": {
        "colab": {
          "base_uri": "https://localhost:8080/"
        },
        "id": "y0EWBwhmuQ_q",
        "outputId": "93b7811d-f2f9-441f-d44a-97953e2d7644"
      },
      "execution_count": null,
      "outputs": [
        {
          "output_type": "execute_result",
          "data": {
            "text/plain": [
              "(0.0, 1.0)"
            ]
          },
          "metadata": {},
          "execution_count": 37
        }
      ]
    },
    {
      "cell_type": "code",
      "source": [
        "(min(datosTransacciones['ONEOFF_PURCHASES_FREQUENCY']), max(datosTransacciones['ONEOFF_PURCHASES_FREQUENCY']))"
      ],
      "metadata": {
        "colab": {
          "base_uri": "https://localhost:8080/"
        },
        "id": "3S9cF7vruQ70",
        "outputId": "bfeb29e6-0964-4485-def5-3ccb35aa46fb"
      },
      "execution_count": null,
      "outputs": [
        {
          "output_type": "execute_result",
          "data": {
            "text/plain": [
              "(0.0, 1.0)"
            ]
          },
          "metadata": {},
          "execution_count": 39
        }
      ]
    },
    {
      "cell_type": "code",
      "source": [
        "(min(datosTransacciones['PURCHASES_INSTALLMENTS_FREQUENCY']), max(datosTransacciones['PURCHASES_INSTALLMENTS_FREQUENCY']))"
      ],
      "metadata": {
        "colab": {
          "base_uri": "https://localhost:8080/"
        },
        "id": "anZxso0RuQ1B",
        "outputId": "490c3549-0f7f-4b40-a6c1-bccc470661af"
      },
      "execution_count": null,
      "outputs": [
        {
          "output_type": "execute_result",
          "data": {
            "text/plain": [
              "(0.0, 1.0)"
            ]
          },
          "metadata": {},
          "execution_count": 41
        }
      ]
    },
    {
      "cell_type": "code",
      "source": [
        "(min(datosTransacciones['CASH_ADVANCE_FREQUENCY']), max(datosTransacciones['CASH_ADVANCE_FREQUENCY']))"
      ],
      "metadata": {
        "colab": {
          "base_uri": "https://localhost:8080/"
        },
        "id": "VS1cMOc4uTo-",
        "outputId": "64abb20e-d80c-48db-f1a3-5f1e5fc7e3fa"
      },
      "execution_count": null,
      "outputs": [
        {
          "output_type": "execute_result",
          "data": {
            "text/plain": [
              "(0.0, 1.5)"
            ]
          },
          "metadata": {},
          "execution_count": 42
        }
      ]
    },
    {
      "cell_type": "code",
      "source": [
        "(min(datosTransacciones['CASH_ADVANCE_TRX']), max(datosTransacciones['CASH_ADVANCE_TRX']))"
      ],
      "metadata": {
        "colab": {
          "base_uri": "https://localhost:8080/"
        },
        "id": "flyEQrZSuThM",
        "outputId": "65ceab18-b1a8-4b1b-dad9-5e20002319f6"
      },
      "execution_count": null,
      "outputs": [
        {
          "output_type": "execute_result",
          "data": {
            "text/plain": [
              "(0, 123)"
            ]
          },
          "metadata": {},
          "execution_count": 45
        }
      ]
    },
    {
      "cell_type": "code",
      "source": [
        "(min(datosTransacciones['PURCHASES_TRX']), max(datosTransacciones['PURCHASES_TRX']))"
      ],
      "metadata": {
        "colab": {
          "base_uri": "https://localhost:8080/"
        },
        "id": "Tu9dcugBvQz1",
        "outputId": "a964acde-208e-426f-e966-0e28eda0775d"
      },
      "execution_count": null,
      "outputs": [
        {
          "output_type": "execute_result",
          "data": {
            "text/plain": [
              "(0, 358)"
            ]
          },
          "metadata": {},
          "execution_count": 47
        }
      ]
    },
    {
      "cell_type": "code",
      "source": [
        "(min(datosTransacciones['CREDIT_LIMIT']), max(datosTransacciones['CREDIT_LIMIT']))"
      ],
      "metadata": {
        "colab": {
          "base_uri": "https://localhost:8080/"
        },
        "id": "2XsYXSg_vQm1",
        "outputId": "87cd8d0a-8c7d-4814-fff4-a36998c8d8e3"
      },
      "execution_count": null,
      "outputs": [
        {
          "output_type": "execute_result",
          "data": {
            "text/plain": [
              "(50.0, 30000.0)"
            ]
          },
          "metadata": {},
          "execution_count": 48
        }
      ]
    },
    {
      "cell_type": "code",
      "source": [
        "(min(datosTransacciones['PAYMENTS']), max(datosTransacciones['PAYMENTS']))"
      ],
      "metadata": {
        "colab": {
          "base_uri": "https://localhost:8080/"
        },
        "id": "ZMY2L9TIvQby",
        "outputId": "1d87a16a-8cba-4e10-da34-af8825d69320"
      },
      "execution_count": null,
      "outputs": [
        {
          "output_type": "execute_result",
          "data": {
            "text/plain": [
              "(0.0, 50721.48336)"
            ]
          },
          "metadata": {},
          "execution_count": 50
        }
      ]
    },
    {
      "cell_type": "code",
      "source": [
        "(min(datosTransacciones['MINIMUM_PAYMENTS']), max(datosTransacciones['MINIMUM_PAYMENTS']))"
      ],
      "metadata": {
        "colab": {
          "base_uri": "https://localhost:8080/"
        },
        "id": "QFP5QLW4vQLV",
        "outputId": "af3c0415-590d-42c4-990b-48790a92cfbd"
      },
      "execution_count": null,
      "outputs": [
        {
          "output_type": "execute_result",
          "data": {
            "text/plain": [
              "(0.019163, 76406.20752)"
            ]
          },
          "metadata": {},
          "execution_count": 52
        }
      ]
    },
    {
      "cell_type": "code",
      "source": [
        "(min(datosTransacciones['PRC_FULL_PAYMENT']), max(datosTransacciones['PRC_FULL_PAYMENT']))"
      ],
      "metadata": {
        "colab": {
          "base_uri": "https://localhost:8080/"
        },
        "id": "Ea73SPtcuTZC",
        "outputId": "9015bc78-5026-4069-9295-08cb8bab67da"
      },
      "execution_count": null,
      "outputs": [
        {
          "output_type": "execute_result",
          "data": {
            "text/plain": [
              "(0.0, 1.0)"
            ]
          },
          "metadata": {},
          "execution_count": 54
        }
      ]
    },
    {
      "cell_type": "code",
      "source": [
        "(min(datosTransacciones['TENURE']), max(datosTransacciones['TENURE']))"
      ],
      "metadata": {
        "colab": {
          "base_uri": "https://localhost:8080/"
        },
        "id": "2CIj_dzsv5jH",
        "outputId": "ded93bfc-5519-4c39-f77a-d0ed4f3729e1"
      },
      "execution_count": null,
      "outputs": [
        {
          "output_type": "execute_result",
          "data": {
            "text/plain": [
              "(6, 12)"
            ]
          },
          "metadata": {},
          "execution_count": 56
        }
      ]
    },
    {
      "cell_type": "markdown",
      "source": [
        "Estudiamos la media y el promedio de las variables"
      ],
      "metadata": {
        "id": "sW3LW1IubQdl"
      }
    },
    {
      "cell_type": "code",
      "source": [
        "datosTransacciones[\"BALANCE\"].mean()"
      ],
      "metadata": {
        "colab": {
          "base_uri": "https://localhost:8080/"
        },
        "id": "3JngTcuUtiuz",
        "outputId": "0bb88aef-982f-4841-eaa7-812016a9b6b3"
      },
      "execution_count": null,
      "outputs": [
        {
          "output_type": "execute_result",
          "data": {
            "text/plain": [
              "1564.4748276781038"
            ]
          },
          "metadata": {},
          "execution_count": 26
        }
      ]
    },
    {
      "cell_type": "code",
      "source": [
        "datosTransacciones[\"BALANCE_FREQUENCY\"].mean()"
      ],
      "metadata": {
        "colab": {
          "base_uri": "https://localhost:8080/"
        },
        "id": "YNf_MvkJtij5",
        "outputId": "16d4561a-3e95-4524-eaac-3e90e5ed0597"
      },
      "execution_count": null,
      "outputs": [
        {
          "output_type": "execute_result",
          "data": {
            "text/plain": [
              "0.8772707255865991"
            ]
          },
          "metadata": {},
          "execution_count": 29
        }
      ]
    },
    {
      "cell_type": "code",
      "source": [
        "datosTransacciones[\"ONEOFF_PURCHASES\"].mean()"
      ],
      "metadata": {
        "colab": {
          "base_uri": "https://localhost:8080/"
        },
        "id": "Xr-rfgMztifO",
        "outputId": "3cece1ce-a4c9-4ddb-ebc8-aee8b8d0f6e4"
      },
      "execution_count": null,
      "outputs": [
        {
          "output_type": "execute_result",
          "data": {
            "text/plain": [
              "592.437370949722"
            ]
          },
          "metadata": {},
          "execution_count": 30
        }
      ]
    },
    {
      "cell_type": "code",
      "source": [
        "datosTransacciones[\"INSTALLMENTS_PURCHASES\"].mean()"
      ],
      "metadata": {
        "colab": {
          "base_uri": "https://localhost:8080/"
        },
        "id": "OgTsvn-CtiVy",
        "outputId": "4639817d-7049-4c6e-8e0f-4f3de7a2a231"
      },
      "execution_count": null,
      "outputs": [
        {
          "output_type": "execute_result",
          "data": {
            "text/plain": [
              "411.06764469273713"
            ]
          },
          "metadata": {},
          "execution_count": 33
        }
      ]
    },
    {
      "cell_type": "code",
      "source": [
        "datosTransacciones[\"CASH_ADVANCE\"].mean()"
      ],
      "metadata": {
        "colab": {
          "base_uri": "https://localhost:8080/"
        },
        "id": "F-AMVYl2tguz",
        "outputId": "fdaf421a-dc95-40f8-bdfa-096817d2f15e"
      },
      "execution_count": null,
      "outputs": [
        {
          "output_type": "execute_result",
          "data": {
            "text/plain": [
              "978.8711124654749"
            ]
          },
          "metadata": {},
          "execution_count": 34
        }
      ]
    },
    {
      "cell_type": "code",
      "source": [
        "datosTransacciones[\"PURCHASES_FREQUENCY\"].mean()"
      ],
      "metadata": {
        "colab": {
          "base_uri": "https://localhost:8080/"
        },
        "id": "ywuTTefktgox",
        "outputId": "8a000ccf-be43-475f-9ca1-7a7fa6dd5576"
      },
      "execution_count": null,
      "outputs": [
        {
          "output_type": "execute_result",
          "data": {
            "text/plain": [
              "0.4903505483798885"
            ]
          },
          "metadata": {},
          "execution_count": 36
        }
      ]
    },
    {
      "cell_type": "code",
      "source": [
        "datosTransacciones[\"ONEOFF_PURCHASES_FREQUENCY\"].mean()"
      ],
      "metadata": {
        "colab": {
          "base_uri": "https://localhost:8080/"
        },
        "id": "jfr96j2VtgkH",
        "outputId": "f2092226-fd8a-4645-813e-7bd5905563a2"
      },
      "execution_count": null,
      "outputs": [
        {
          "output_type": "execute_result",
          "data": {
            "text/plain": [
              "0.20245768357542138"
            ]
          },
          "metadata": {},
          "execution_count": 38
        }
      ]
    },
    {
      "cell_type": "code",
      "source": [
        "datosTransacciones[\"PURCHASES_INSTALLMENTS_FREQUENCY\"].mean()"
      ],
      "metadata": {
        "colab": {
          "base_uri": "https://localhost:8080/"
        },
        "id": "l52To3ZutgfR",
        "outputId": "81b2f919-155c-4764-8441-17381e69b148"
      },
      "execution_count": null,
      "outputs": [
        {
          "output_type": "execute_result",
          "data": {
            "text/plain": [
              "0.3644373415642452"
            ]
          },
          "metadata": {},
          "execution_count": 40
        }
      ]
    },
    {
      "cell_type": "code",
      "source": [
        "datosTransacciones[\"CASH_ADVANCE_FREQUENCY\"].mean()"
      ],
      "metadata": {
        "colab": {
          "base_uri": "https://localhost:8080/"
        },
        "id": "eND-4GjItgZ-",
        "outputId": "7c31b317-7457-4424-c20b-591278900016"
      },
      "execution_count": null,
      "outputs": [
        {
          "output_type": "execute_result",
          "data": {
            "text/plain": [
              "0.1351442003351972"
            ]
          },
          "metadata": {},
          "execution_count": 43
        }
      ]
    },
    {
      "cell_type": "code",
      "source": [
        "datosTransacciones[\"CASH_ADVANCE_TRX\"].mean()"
      ],
      "metadata": {
        "colab": {
          "base_uri": "https://localhost:8080/"
        },
        "id": "XSxiVtxVtgRq",
        "outputId": "868fe940-4388-4700-a8aa-f1c31b03644a"
      },
      "execution_count": null,
      "outputs": [
        {
          "output_type": "execute_result",
          "data": {
            "text/plain": [
              "3.2488268156424582"
            ]
          },
          "metadata": {},
          "execution_count": 44
        }
      ]
    },
    {
      "cell_type": "code",
      "source": [
        "datosTransacciones[\"PURCHASES_TRX\"].mean()"
      ],
      "metadata": {
        "colab": {
          "base_uri": "https://localhost:8080/"
        },
        "id": "30a04umHvOcc",
        "outputId": "4b2abbac-da68-4f03-87bc-d1a17f07f106"
      },
      "execution_count": null,
      "outputs": [
        {
          "output_type": "execute_result",
          "data": {
            "text/plain": [
              "14.709832402234637"
            ]
          },
          "metadata": {},
          "execution_count": 46
        }
      ]
    },
    {
      "cell_type": "code",
      "source": [
        "datosTransacciones[\"CREDIT_LIMIT\"].mean()"
      ],
      "metadata": {
        "colab": {
          "base_uri": "https://localhost:8080/"
        },
        "id": "XGUHkpuIvODr",
        "outputId": "f2a57be2-5953-4709-e413-95185dfc659d"
      },
      "execution_count": null,
      "outputs": [
        {
          "output_type": "execute_result",
          "data": {
            "text/plain": [
              "4494.449450364621"
            ]
          },
          "metadata": {},
          "execution_count": 49
        }
      ]
    },
    {
      "cell_type": "code",
      "source": [
        "datosTransacciones[\"PAYMENTS\"].mean()"
      ],
      "metadata": {
        "colab": {
          "base_uri": "https://localhost:8080/"
        },
        "id": "rZ7UrNnNvN9k",
        "outputId": "a9a5d805-aaed-463b-efbf-e534de8ee74e"
      },
      "execution_count": null,
      "outputs": [
        {
          "output_type": "execute_result",
          "data": {
            "text/plain": [
              "1733.1438520248041"
            ]
          },
          "metadata": {},
          "execution_count": 51
        }
      ]
    },
    {
      "cell_type": "code",
      "source": [
        "datosTransacciones[\"MINIMUM_PAYMENTS\"].mean()"
      ],
      "metadata": {
        "colab": {
          "base_uri": "https://localhost:8080/"
        },
        "id": "9xFs2WiAvN1N",
        "outputId": "64ed7b45-10c8-418d-cc93-bd20330ebc5d"
      },
      "execution_count": null,
      "outputs": [
        {
          "output_type": "execute_result",
          "data": {
            "text/plain": [
              "864.2065423050816"
            ]
          },
          "metadata": {},
          "execution_count": 53
        }
      ]
    },
    {
      "cell_type": "code",
      "source": [
        "datosTransacciones[\"PRC_FULL_PAYMENT\"].mean()"
      ],
      "metadata": {
        "colab": {
          "base_uri": "https://localhost:8080/"
        },
        "id": "ej9Lqleiv3b8",
        "outputId": "ea9343ba-365a-4d7f-a244-ef2c498180ff"
      },
      "execution_count": null,
      "outputs": [
        {
          "output_type": "execute_result",
          "data": {
            "text/plain": [
              "0.1537146484916212"
            ]
          },
          "metadata": {},
          "execution_count": 55
        }
      ]
    },
    {
      "cell_type": "code",
      "source": [
        "datosTransacciones[\"TENURE\"].mean()"
      ],
      "metadata": {
        "id": "74cgldJtbRj7",
        "colab": {
          "base_uri": "https://localhost:8080/"
        },
        "outputId": "fdf18599-3072-4e4e-86b4-ba0f15d9edc7"
      },
      "execution_count": null,
      "outputs": [
        {
          "output_type": "execute_result",
          "data": {
            "text/plain": [
              "11.51731843575419"
            ]
          },
          "metadata": {},
          "execution_count": 5
        }
      ]
    },
    {
      "cell_type": "markdown",
      "source": [
        "Vemos la distribucion de los datos"
      ],
      "metadata": {
        "id": "AFjp3WwrbWWZ"
      }
    },
    {
      "cell_type": "code",
      "source": [
        "plt.figure()\n",
        "sns.countplot(data = datosTransacciones, x=\"BALANCE_FREQUENCY\")\n",
        "display()"
      ],
      "metadata": {
        "colab": {
          "base_uri": "https://localhost:8080/",
          "height": 280
        },
        "id": "Bqi7WxQXwvQH",
        "outputId": "21e52b32-ce01-4468-9f4b-152151129b50"
      },
      "execution_count": null,
      "outputs": [
        {
          "output_type": "display_data",
          "data": {
            "text/plain": [
              "<Figure size 432x288 with 1 Axes>"
            ],
            "image/png": "[encoded data removed]"
          },
          "metadata": {
            "needs_background": "light"
          }
        }
      ]
    },
    {
      "cell_type": "code",
      "source": [
        "plt.figure()\n",
        "sns.countplot(data = datosTransacciones, x=\"PURCHASES_FREQUENCY\")\n",
        "display()"
      ],
      "metadata": {
        "colab": {
          "base_uri": "https://localhost:8080/",
          "height": 280
        },
        "id": "8pQqVhW_wZOH",
        "outputId": "97cd3009-a4ee-4b22-ec15-f821163d80cb"
      },
      "execution_count": null,
      "outputs": [
        {
          "output_type": "display_data",
          "data": {
            "text/plain": [
              "<Figure size 432x288 with 1 Axes>"
            ],
            "image/png": "[encoded data removed]"
          },
          "metadata": {
            "needs_background": "light"
          }
        }
      ]
    },
    {
      "cell_type": "code",
      "source": [
        "plt.figure()\n",
        "sns.countplot(data = datosTransacciones, x=\"ONEOFF_PURCHASES_FREQUENCY\")\n",
        "display()"
      ],
      "metadata": {
        "colab": {
          "base_uri": "https://localhost:8080/",
          "height": 280
        },
        "id": "lDNqCj7ywt2B",
        "outputId": "6883d88a-4ba0-4130-f3f6-cd5284d33ef1"
      },
      "execution_count": null,
      "outputs": [
        {
          "output_type": "display_data",
          "data": {
            "text/plain": [
              "<Figure size 432x288 with 1 Axes>"
            ],
            "image/png": "[encoded data removed]"
          },
          "metadata": {
            "needs_background": "light"
          }
        }
      ]
    },
    {
      "cell_type": "code",
      "source": [
        "plt.figure()\n",
        "sns.countplot(data = datosTransacciones, x=\"PURCHASES_INSTALLMENTS_FREQUENCY\")\n",
        "display()"
      ],
      "metadata": {
        "colab": {
          "base_uri": "https://localhost:8080/",
          "height": 280
        },
        "id": "nnv3VPdcxnhS",
        "outputId": "600125c8-5a2a-4808-be6b-2b52145dbe6e"
      },
      "execution_count": null,
      "outputs": [
        {
          "output_type": "display_data",
          "data": {
            "text/plain": [
              "<Figure size 432x288 with 1 Axes>"
            ],
            "image/png": "[encoded data removed]"
          },
          "metadata": {
            "needs_background": "light"
          }
        }
      ]
    },
    {
      "cell_type": "code",
      "source": [
        "plt.figure()\n",
        "sns.countplot(data = datosTransacciones, x=\"CASH_ADVANCE_FREQUENCY\")\n",
        "display()"
      ],
      "metadata": {
        "colab": {
          "base_uri": "https://localhost:8080/",
          "height": 280
        },
        "id": "NbxpxUSmxs07",
        "outputId": "652b6d71-ed3c-4430-dadd-f90d3cdb0fb2"
      },
      "execution_count": null,
      "outputs": [
        {
          "output_type": "display_data",
          "data": {
            "text/plain": [
              "<Figure size 432x288 with 1 Axes>"
            ],
            "image/png": "[encoded data removed]"
          },
          "metadata": {
            "needs_background": "light"
          }
        }
      ]
    },
    {
      "cell_type": "code",
      "source": [
        "plt.figure()\n",
        "sns.countplot(data = datosTransacciones, x=\"CASH_ADVANCE_TRX\")\n",
        "display()"
      ],
      "metadata": {
        "colab": {
          "base_uri": "https://localhost:8080/",
          "height": 280
        },
        "id": "dZDPpSzQxsb5",
        "outputId": "7802411c-fe57-484c-e3b8-8b5e6c95c24e"
      },
      "execution_count": null,
      "outputs": [
        {
          "output_type": "display_data",
          "data": {
            "text/plain": [
              "<Figure size 432x288 with 1 Axes>"
            ],
            "image/png": "[encoded data removed]"
          },
          "metadata": {
            "needs_background": "light"
          }
        }
      ]
    },
    {
      "cell_type": "code",
      "source": [
        "plt.figure()\n",
        "sns.countplot(data = datosTransacciones, x=\"PURCHASES_TRX\")\n",
        "display()"
      ],
      "metadata": {
        "colab": {
          "base_uri": "https://localhost:8080/",
          "height": 280
        },
        "id": "70NvvATux6k1",
        "outputId": "28fc8092-7531-47d9-94ac-5c7091d52705"
      },
      "execution_count": null,
      "outputs": [
        {
          "output_type": "display_data",
          "data": {
            "text/plain": [
              "<Figure size 432x288 with 1 Axes>"
            ],
            "image/png": "[encoded data removed]"
          },
          "metadata": {
            "needs_background": "light"
          }
        }
      ]
    },
    {
      "cell_type": "code",
      "source": [
        "plt.figure()\n",
        "sns.countplot(data = datosTransacciones, x=\"CREDIT_LIMIT\")\n",
        "display()"
      ],
      "metadata": {
        "id": "MP9J9jEHx71d"
      },
      "execution_count": null,
      "outputs": []
    },
    {
      "cell_type": "code",
      "source": [
        "plt.figure()\n",
        "sns.countplot(data = datosTransacciones, x=\"PAYMENTS\")\n",
        "display()"
      ],
      "metadata": {
        "id": "Ys-yTMsSyCjK"
      },
      "execution_count": null,
      "outputs": []
    },
    {
      "cell_type": "code",
      "source": [
        "plt.figure()\n",
        "sns.countplot(data = datosTransacciones, x=\"MINIMUM_PAYMENTS\")\n",
        "display()"
      ],
      "metadata": {
        "id": "tS6hgecJyCPE"
      },
      "execution_count": null,
      "outputs": []
    },
    {
      "cell_type": "code",
      "source": [
        "plt.figure()\n",
        "sns.countplot(data = datosTransacciones, x=\"PRC_FULL_PAYMENT\")\n",
        "display()"
      ],
      "metadata": {
        "id": "9HqxxzVpyOqG"
      },
      "execution_count": null,
      "outputs": []
    },
    {
      "cell_type": "code",
      "source": [
        "plt.figure()\n",
        "sns.countplot(data = datosTransacciones, x=\"TENURE\")\n",
        "display()"
      ],
      "metadata": {
        "id": "iAXXBMY9bZBp",
        "colab": {
          "base_uri": "https://localhost:8080/",
          "height": 279
        },
        "outputId": "37b05e99-9bbb-49b7-a021-cf5049550075"
      },
      "execution_count": null,
      "outputs": [
        {
          "output_type": "display_data",
          "data": {
            "text/plain": [
              "<Figure size 432x288 with 1 Axes>"
            ],
            "image/png": "[encoded data removed]"
          },
          "metadata": {
            "needs_background": "light"
          }
        }
      ]
    },
    {
      "cell_type": "markdown",
      "source": [
        "Podemos ver el rango de la tenencia de la tarjeta con la que estamos trabajando, la cual va desde 6 a 12 meses, siendo la mayor parte de los datos de 12 meses"
      ],
      "metadata": {
        "id": "f78I8n-ot9RZ"
      }
    },
    {
      "cell_type": "markdown",
      "source": [
        "Box Plot de las variables:\n",
        "\n",
        "Asi de esta forma podremos validar la inexistencia de outliers y observar mejor las distribuciones de las variables."
      ],
      "metadata": {
        "id": "l167iO_xg7co"
      }
    },
    {
      "cell_type": "code",
      "source": [
        "fig, ax = plt.subplots()\n",
        "sns.boxplot(x = datosTransacciones['BALANCE'])\n",
        "display()"
      ],
      "metadata": {
        "colab": {
          "base_uri": "https://localhost:8080/",
          "height": 279
        },
        "id": "RfsULVs4g69L",
        "outputId": "47ba5bdf-182b-4fa1-b485-68753c30f08c"
      },
      "execution_count": null,
      "outputs": [
        {
          "output_type": "display_data",
          "data": {
            "text/plain": [
              "<Figure size 432x288 with 1 Axes>"
            ],
            "image/png": "[encoded data removed]"
          },
          "metadata": {
            "needs_background": "light"
          }
        }
      ]
    },
    {
      "cell_type": "code",
      "source": [
        "fig, ax = plt.subplots()\n",
        "sns.boxplot(x = datosTransacciones['BALANCE_FREQUENCY'])\n",
        "display()"
      ],
      "metadata": {
        "colab": {
          "base_uri": "https://localhost:8080/",
          "height": 280
        },
        "id": "pcXsg6o3i2bx",
        "outputId": "3377d5c4-0be7-42d1-c94a-3361f4745a7c"
      },
      "execution_count": null,
      "outputs": [
        {
          "output_type": "display_data",
          "data": {
            "text/plain": [
              "<Figure size 432x288 with 1 Axes>"
            ],
            "image/png": "[encoded data removed]"
          },
          "metadata": {
            "needs_background": "light"
          }
        }
      ]
    },
    {
      "cell_type": "code",
      "source": [
        "fig, ax = plt.subplots()\n",
        "sns.boxplot(x = datosTransacciones['ONEOFF_PURCHASES'])\n",
        "display()"
      ],
      "metadata": {
        "colab": {
          "base_uri": "https://localhost:8080/",
          "height": 280
        },
        "id": "XKCqoDp8i6rD",
        "outputId": "12328b1f-2f75-472a-f481-fd3fc0c617f9"
      },
      "execution_count": null,
      "outputs": [
        {
          "output_type": "display_data",
          "data": {
            "text/plain": [
              "<Figure size 432x288 with 1 Axes>"
            ],
            "image/png": "[encoded data removed]"
          },
          "metadata": {
            "needs_background": "light"
          }
        }
      ]
    },
    {
      "cell_type": "code",
      "source": [
        "fig, ax = plt.subplots()\n",
        "sns.boxplot(x = datosTransacciones['INSTALLMENTS_PURCHASES'])\n",
        "display()"
      ],
      "metadata": {
        "colab": {
          "base_uri": "https://localhost:8080/",
          "height": 280
        },
        "id": "zseL0ISgjEW-",
        "outputId": "d444b69f-eba8-4c17-bf34-295e7fbe9553"
      },
      "execution_count": null,
      "outputs": [
        {
          "output_type": "display_data",
          "data": {
            "text/plain": [
              "<Figure size 432x288 with 1 Axes>"
            ],
            "image/png": "[encoded data removed]"
          },
          "metadata": {
            "needs_background": "light"
          }
        }
      ]
    },
    {
      "cell_type": "code",
      "source": [
        "fig, ax = plt.subplots()\n",
        "sns.boxplot(x = datosTransacciones['CASH_ADVANCE'])\n",
        "display()"
      ],
      "metadata": {
        "colab": {
          "base_uri": "https://localhost:8080/",
          "height": 280
        },
        "id": "ckeOXq4BjFjo",
        "outputId": "9823ea7f-b7cc-4a19-b0e7-6aabc3067653"
      },
      "execution_count": null,
      "outputs": [
        {
          "output_type": "display_data",
          "data": {
            "text/plain": [
              "<Figure size 432x288 with 1 Axes>"
            ],
            "image/png": "[encoded data removed]"
          },
          "metadata": {
            "needs_background": "light"
          }
        }
      ]
    },
    {
      "cell_type": "code",
      "source": [
        "fig, ax = plt.subplots()\n",
        "sns.boxplot(x = datosTransacciones['PURCHASES_FREQUENCY'])\n",
        "display()"
      ],
      "metadata": {
        "colab": {
          "base_uri": "https://localhost:8080/",
          "height": 280
        },
        "id": "YGLQLJB-jFJP",
        "outputId": "c7c58c61-06d5-4644-b867-a2542ad09849"
      },
      "execution_count": null,
      "outputs": [
        {
          "output_type": "display_data",
          "data": {
            "text/plain": [
              "<Figure size 432x288 with 1 Axes>"
            ],
            "image/png": "[encoded data removed]"
          },
          "metadata": {
            "needs_background": "light"
          }
        }
      ]
    },
    {
      "cell_type": "code",
      "source": [
        "fig, ax = plt.subplots()\n",
        "sns.boxplot(x = datosTransacciones['ONEOFF_PURCHASES_FREQUENCY'])\n",
        "display()"
      ],
      "metadata": {
        "colab": {
          "base_uri": "https://localhost:8080/",
          "height": 280
        },
        "id": "GBm_4uzIjfCJ",
        "outputId": "409d3d08-8822-4797-a177-f60e0a9e80fd"
      },
      "execution_count": null,
      "outputs": [
        {
          "output_type": "display_data",
          "data": {
            "text/plain": [
              "<Figure size 432x288 with 1 Axes>"
            ],
            "image/png": "[encoded data removed]"
          },
          "metadata": {
            "needs_background": "light"
          }
        }
      ]
    },
    {
      "cell_type": "code",
      "source": [
        "fig, ax = plt.subplots()\n",
        "sns.boxplot(x = datosTransacciones['PURCHASES_INSTALLMENTS_FREQUENCY'])\n",
        "display()"
      ],
      "metadata": {
        "colab": {
          "base_uri": "https://localhost:8080/",
          "height": 280
        },
        "id": "5N3j75zyjeo2",
        "outputId": "de777797-8dd5-4dcb-fe11-bf47f2734fc7"
      },
      "execution_count": null,
      "outputs": [
        {
          "output_type": "display_data",
          "data": {
            "text/plain": [
              "<Figure size 432x288 with 1 Axes>"
            ],
            "image/png": "[encoded data removed]"
          },
          "metadata": {
            "needs_background": "light"
          }
        }
      ]
    },
    {
      "cell_type": "code",
      "source": [
        "fig, ax = plt.subplots()\n",
        "sns.boxplot(x = datosTransacciones['CASH_ADVANCE_FREQUENCY'])\n",
        "display()"
      ],
      "metadata": {
        "colab": {
          "base_uri": "https://localhost:8080/",
          "height": 280
        },
        "id": "7HyiDRZToFgl",
        "outputId": "add575e4-1a67-4d43-f434-12a37b1bb01e"
      },
      "execution_count": null,
      "outputs": [
        {
          "output_type": "display_data",
          "data": {
            "text/plain": [
              "<Figure size 432x288 with 1 Axes>"
            ],
            "image/png": "[encoded data removed]"
          },
          "metadata": {
            "needs_background": "light"
          }
        }
      ]
    },
    {
      "cell_type": "code",
      "source": [
        "fig, ax = plt.subplots()\n",
        "sns.boxplot(x = datosTransacciones['CASH_ADVANCE_TRX'])\n",
        "display()"
      ],
      "metadata": {
        "colab": {
          "base_uri": "https://localhost:8080/",
          "height": 280
        },
        "id": "3JkD6si8oFYL",
        "outputId": "54e53ee3-3570-4487-87ad-d026901b951b"
      },
      "execution_count": null,
      "outputs": [
        {
          "output_type": "display_data",
          "data": {
            "text/plain": [
              "<Figure size 432x288 with 1 Axes>"
            ],
            "image/png": "[encoded data removed]"
          },
          "metadata": {
            "needs_background": "light"
          }
        }
      ]
    },
    {
      "cell_type": "code",
      "source": [
        "fig, ax = plt.subplots()\n",
        "sns.boxplot(x = datosTransacciones['PURCHASES_TRX'])\n",
        "display()"
      ],
      "metadata": {
        "colab": {
          "base_uri": "https://localhost:8080/",
          "height": 280
        },
        "id": "Tu3APoKhoFHT",
        "outputId": "61a53565-7e0b-4601-faec-7f3116e1ffee"
      },
      "execution_count": null,
      "outputs": [
        {
          "output_type": "display_data",
          "data": {
            "text/plain": [
              "<Figure size 432x288 with 1 Axes>"
            ],
            "image/png": "[encoded data removed]"
          },
          "metadata": {
            "needs_background": "light"
          }
        }
      ]
    },
    {
      "cell_type": "code",
      "source": [
        "fig, ax = plt.subplots()\n",
        "sns.boxplot(x = datosTransacciones['CREDIT_LIMIT'])\n",
        "display()"
      ],
      "metadata": {
        "colab": {
          "base_uri": "https://localhost:8080/",
          "height": 280
        },
        "id": "8_dJe_nGoHrq",
        "outputId": "961f6ebf-63b5-4172-8da0-d0b9bd6f83f2"
      },
      "execution_count": null,
      "outputs": [
        {
          "output_type": "display_data",
          "data": {
            "text/plain": [
              "<Figure size 432x288 with 1 Axes>"
            ],
            "image/png": "[encoded data removed]"
          },
          "metadata": {
            "needs_background": "light"
          }
        }
      ]
    },
    {
      "cell_type": "code",
      "source": [
        "fig, ax = plt.subplots()\n",
        "sns.boxplot(x = datosTransacciones['PAYMENTS'])\n",
        "display()"
      ],
      "metadata": {
        "colab": {
          "base_uri": "https://localhost:8080/",
          "height": 279
        },
        "id": "QcLbkl8WoHb4",
        "outputId": "1ca3c15c-9698-4284-ab72-a34f6cc9b846"
      },
      "execution_count": null,
      "outputs": [
        {
          "output_type": "display_data",
          "data": {
            "text/plain": [
              "<Figure size 432x288 with 1 Axes>"
            ],
            "image/png": "[encoded data removed]"
          },
          "metadata": {
            "needs_background": "light"
          }
        }
      ]
    },
    {
      "cell_type": "code",
      "source": [
        "fig, ax = plt.subplots()\n",
        "sns.boxplot(x = datosTransacciones['MINIMUM_PAYMENTS'])\n",
        "display()"
      ],
      "metadata": {
        "colab": {
          "base_uri": "https://localhost:8080/",
          "height": 280
        },
        "id": "riQ55z3QoHBI",
        "outputId": "de53920a-55eb-4bd8-c159-61dcb184b36c"
      },
      "execution_count": null,
      "outputs": [
        {
          "output_type": "display_data",
          "data": {
            "text/plain": [
              "<Figure size 432x288 with 1 Axes>"
            ],
            "image/png": "[encoded data removed]"
          },
          "metadata": {
            "needs_background": "light"
          }
        }
      ]
    },
    {
      "cell_type": "code",
      "source": [
        "fig, ax = plt.subplots()\n",
        "sns.boxplot(x = datosTransacciones['PRC_FULL_PAYMENT'])\n",
        "display()"
      ],
      "metadata": {
        "colab": {
          "base_uri": "https://localhost:8080/",
          "height": 280
        },
        "id": "c_xZipWGsO8V",
        "outputId": "04945545-de4e-40b1-b61d-7fb14b952a24"
      },
      "execution_count": null,
      "outputs": [
        {
          "output_type": "display_data",
          "data": {
            "text/plain": [
              "<Figure size 432x288 with 1 Axes>"
            ],
            "image/png": "[encoded data removed]"
          },
          "metadata": {
            "needs_background": "light"
          }
        }
      ]
    },
    {
      "cell_type": "code",
      "source": [
        "fig, ax = plt.subplots()\n",
        "sns.boxplot(x = datosTransacciones['TENURE'])\n",
        "display()"
      ],
      "metadata": {
        "colab": {
          "base_uri": "https://localhost:8080/",
          "height": 279
        },
        "id": "tA4_2jEdsj2B",
        "outputId": "b0c0d837-fd86-47bd-a0bd-3822c092086b"
      },
      "execution_count": null,
      "outputs": [
        {
          "output_type": "display_data",
          "data": {
            "text/plain": [
              "<Figure size 432x288 with 1 Axes>"
            ],
            "image/png": "[encoded data removed]"
          },
          "metadata": {
            "needs_background": "light"
          }
        }
      ]
    },
    {
      "cell_type": "markdown",
      "source": [
        "Podemos ver que las distribuciones de las variables son las siguientes:\n",
        "\n",
        "\n",
        "* BALANCE: \n",
        "* BALANCE_FREQUENCY: \n",
        "* ONE_OFF_PURCHASES: \n",
        "* INSTALLMENTS_PURCHASES: \n",
        "* CASH_ADVANCE: \n",
        "* PURCHASES_FREQUENCY: \n",
        "* ONE_OFF_PURCHASES_FREQUENCY:\n",
        "* PURCHASES_INSTALLMENTS_FREQUENCY:\n",
        "* CASH_ADVANCE_FREQUENCY: \n",
        "* CASH_ADVANCE_TRX: \n",
        "* PURCHASES_TRX: \n",
        "* CREDIT_LIMIT: \n",
        "* PAYMENTS: \n",
        "* MINIMUM_PAYMENTS: \n",
        "* PRC_FULL_PAYMENT: \n",
        "* TENURE: valores entre 6 y 12\n",
        "\n"
      ],
      "metadata": {
        "id": "7ARO8gkGax2o"
      }
    },
    {
      "cell_type": "markdown",
      "source": [
        "Representación gráfica de la correlación entre variables a traves de heatmap del paquete Seaborn"
      ],
      "metadata": {
        "id": "w69rHCoVazVu"
      }
    },
    {
      "cell_type": "code",
      "source": [
        "datosTransacciones.figure(figsize = (17,6))\n",
        "sns.heatmap(datosTransacciones.corr(), annot = True, cmap=\"BuPu\")\n",
        "plt.show()"
      ],
      "metadata": {
        "id": "WCTfh0Pya0NN"
      },
      "execution_count": null,
      "outputs": []
    },
    {
      "cell_type": "markdown",
      "source": [
        "# **Parte 2: Limpieza Datos**"
      ],
      "metadata": {
        "id": "dDrOrVkUeH_b"
      }
    },
    {
      "cell_type": "markdown",
      "source": [
        "Eliminamos los duplicados"
      ],
      "metadata": {
        "id": "wdGbYg8ncLEM"
      }
    },
    {
      "cell_type": "code",
      "source": [
        "datosContactos.drop_duplicates(inplace= True )"
      ],
      "metadata": {
        "id": "heq62BozcLaB"
      },
      "execution_count": null,
      "outputs": []
    },
    {
      "cell_type": "code",
      "source": [
        "datosTransacciones.drop_duplicates(inplace= True )"
      ],
      "metadata": {
        "id": "lsPDvlKjdc49"
      },
      "execution_count": null,
      "outputs": []
    },
    {
      "cell_type": "markdown",
      "source": [
        "# **Parte 3: Algoritmo k-means**"
      ],
      "metadata": {
        "id": "T5eUWRzrepqI"
      }
    },
    {
      "cell_type": "code",
      "source": [
        ""
      ],
      "metadata": {
        "id": "Thk4uhhZexBD"
      },
      "execution_count": null,
      "outputs": []
    },
    {
      "cell_type": "markdown",
      "source": [
        "# **Parte 4: DBSCAN**"
      ],
      "metadata": {
        "id": "sfDIBL5TeycA"
      }
    },
    {
      "cell_type": "code",
      "source": [
        ""
      ],
      "metadata": {
        "id": "haADeo1He4MD"
      },
      "execution_count": null,
      "outputs": []
    },
    {
      "cell_type": "markdown",
      "source": [
        "# **Parte 5: Ward**"
      ],
      "metadata": {
        "id": "Szs1FDDTe440"
      }
    },
    {
      "cell_type": "code",
      "source": [
        ""
      ],
      "metadata": {
        "id": "wzEJGAjRe-pI"
      },
      "execution_count": null,
      "outputs": []
    },
    {
      "cell_type": "markdown",
      "source": [
        "# **Parte 6: Cuestionarios**"
      ],
      "metadata": {
        "id": "lVqx4WH3fCsG"
      }
    },
    {
      "cell_type": "code",
      "source": [
        ""
      ],
      "metadata": {
        "id": "PDBEjELSfLDG"
      },
      "execution_count": null,
      "outputs": []
    },
    {
      "cell_type": "markdown",
      "source": [
        "# **Parte 7: Conclusiones**"
      ],
      "metadata": {
        "id": "y6XofDu0fKv2"
      }
    }
  ]
}